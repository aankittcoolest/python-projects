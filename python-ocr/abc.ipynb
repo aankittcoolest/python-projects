{
 "cells": [
  {
   "cell_type": "code",
   "execution_count": null,
   "metadata": {},
   "outputs": [],
   "source": [
    "import boto3\n",
    "from langdetect import detect\n",
    "\n",
    "def extract_text_from_image(image_file):\n",
    "    \"\"\"\n",
    "    Extract text from an image using AWS Textract.\n",
    "    \"\"\"\n",
    "    # Initialize Textract client\n",
    "    textract = boto3.client('textract')\n",
    "\n",
    "    # Read the image file\n",
    "    with open(image_file, 'rb') as file:\n",
    "        image_bytes = file.read()\n",
    "\n",
    "    # Call Textract to analyze the image\n",
    "    response = textract.detect_document_text(Document={'Bytes': image_bytes})\n",
    "\n",
    "    # Extract detected text\n",
    "    extracted_text = \"\"\n",
    "    for block in response['Blocks']:\n",
    "        if block['BlockType'] == 'LINE':\n",
    "            extracted_text += block['Text'] + \"\\n\"\n",
    "\n",
    "    return extracted_text\n",
    "\n",
    "def analyze_japanese_text(text):\n",
    "    \"\"\"\n",
    "    Analyze the extracted text for Japanese language.\n",
    "    \"\"\"\n",
    "    try:\n",
    "        # Detect language\n",
    "        language = detect(text)\n",
    "        if language == 'ja':\n",
    "            print(\"Detected Japanese text:\")\n",
    "            print(text)\n",
    "        else:\n",
    "            print(\"The text is not in Japanese.\")\n",
    "    except Exception as e:\n",
    "        print(f\"Error detecting language: {e}\")\n",
    "\n",
    "if __name__ == \"__main__\":\n",
    "    # Path to the image file\n",
    "    image_path = \"path_to_your_image.jpg\"\n",
    "\n",
    "    # Extract text using AWS Textract\n",
    "    extracted_text = extract_text_from_image(image_path)\n",
    "\n",
    "    # Analyze the extracted text\n",
    "    analyze_japanese_text(extracted_text)"
   ]
  }
 ],
 "metadata": {
  "kernelspec": {
   "display_name": "python-ocr",
   "language": "python",
   "name": "python3"
  },
  "language_info": {
   "name": "python",
   "version": "3.10.18"
  }
 },
 "nbformat": 4,
 "nbformat_minor": 2
}
